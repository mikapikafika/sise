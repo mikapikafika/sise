{
 "cells": [
  {
   "cell_type": "code",
   "execution_count": 9,
   "metadata": {},
   "outputs": [
    {
     "name": "stdout",
     "output_type": "stream",
     "text": [
      "java Main astr hamm Ukladanki\\4x4_01_0001.txt UkladankiSolved\\4x4_01_0001_astr_hamm_sol.txt UkladankiSolved\\4x4_01_0001_astr_hamm_stats.txt\n",
      "java Main astr hamm Ukladanki\\4x4_01_0002.txt UkladankiSolved\\4x4_01_0002_astr_hamm_sol.txt UkladankiSolved\\4x4_01_0002_astr_hamm_stats.txt\n",
      "java Main astr manh Ukladanki\\4x4_01_0001.txt UkladankiSolved\\4x4_01_0001_astr_manh_sol.txt UkladankiSolved\\4x4_01_0001_astr_manh_stats.txt\n",
      "java Main astr manh Ukladanki\\4x4_01_0002.txt UkladankiSolved\\4x4_01_0002_astr_manh_sol.txt UkladankiSolved\\4x4_01_0002_astr_manh_stats.txt\n"
     ]
    }
   ],
   "source": [
    "for algorithm in ['astr']:\n",
    "    for ordering in ['hamm','manh']:\n",
    "        for i in range(1, 3):\n",
    "            input_file = f\"Ukladanki\\\\4x4_01_{'{:04d}'.format(i)}.txt\"\n",
    "            output_file_sol = f\"UkladankiSolved\\\\4x4_01_{'{:04d}'.format(i)}_{algorithm.lower()}_{ordering.lower()}_sol.txt\"\n",
    "            output_file_stats = f\"UkladankiSolved\\\\4x4_01_{'{:04d}'.format(i)}_{algorithm.lower()}_{ordering.lower()}_stats.txt\"\n",
    "            print(f\"java Main {algorithm} {ordering} {input_file} {output_file_sol} {output_file_stats}\")\n"
   ]
  }
 ],
 "metadata": {
  "kernelspec": {
   "display_name": "Python 3",
   "language": "python",
   "name": "python3"
  },
  "language_info": {
   "codemirror_mode": {
    "name": "ipython",
    "version": 3
   },
   "file_extension": ".py",
   "mimetype": "text/x-python",
   "name": "python",
   "nbconvert_exporter": "python",
   "pygments_lexer": "ipython3",
   "version": "3.10.10"
  },
  "orig_nbformat": 4
 },
 "nbformat": 4,
 "nbformat_minor": 2
}
